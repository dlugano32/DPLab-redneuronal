{
 "cells": [
  {
   "cell_type": "code",
   "execution_count": 1,
   "metadata": {},
   "outputs": [
    {
     "name": "stderr",
     "output_type": "stream",
     "text": [
      "2023-05-21 18:24:25.218296: I tensorflow/stream_executor/platform/default/dso_loader.cc:49] Successfully opened dynamic library libcudart.so.10.1\n"
     ]
    }
   ],
   "source": [
    "## Simple tf.keras Sequential model\n",
    "\n",
    "import numpy as np\n",
    "import tensorflow as tf\n",
    "import plot_confusion_matrix as pcm\n",
    "\n",
    "from tensorflow import keras\n",
    "from keras.models import Sequential\n",
    "from keras.layers import Activation, Dense\n",
    "from keras.optimizers import Adam\n",
    "from keras.metrics import categorical_crossentropy\n",
    "\n",
    "from random import randint\n",
    "from sklearn.utils import shuffle\n",
    "from sklearn.preprocessing import MinMaxScaler\n",
    "\n",
    "from sklearn.metrics import confusion_matrix"
   ]
  },
  {
   "cell_type": "code",
   "execution_count": 2,
   "metadata": {},
   "outputs": [],
   "source": [
    "train_labels = []\n",
    "train_samples = []\n",
    "\n",
    "##dummy data\n",
    "\n",
    "for i in range(50):\n",
    "    # The ~5% of younger individuals who did experience side effects\n",
    "    random_younger = randint(13,64)\n",
    "    train_samples.append(random_younger)\n",
    "    train_labels.append(1)\n",
    "\n",
    "    # The ~5% of older individuals who did not experience side effects\n",
    "    random_older = randint(65,100)\n",
    "    train_samples.append(random_older)\n",
    "    train_labels.append(0)\n",
    "\n",
    "for i in range(1000):\n",
    "    # The ~95% of younger individuals who did not experience side effects\n",
    "    random_younger = randint(13,64)\n",
    "    train_samples.append(random_younger)\n",
    "    train_labels.append(0)\n",
    "\n",
    "    # The ~95% of older individuals who did experience side effects\n",
    "    random_older = randint(65,100)\n",
    "    train_samples.append(random_older)\n",
    "    train_labels.append(1)\n",
    "\n",
    "train_samples = np.array(train_samples)\n",
    "train_labels = np.array(train_labels)\n",
    "train_labels, train_samples = shuffle(train_labels, train_samples) #shuffle both train_labels and train_samples  to remove any order that was imposed on the data during the creation process\n",
    "\n",
    "scaler = MinMaxScaler(feature_range=(0,1))  #scale all of the data down from a scale ranging from 13 to 100 to be on a scale from 0 to 1\n",
    "scaled_train_samples = scaler.fit_transform(train_samples.reshape(-1,1)) #reshape the data as a technical requirement just since the fit_transform() function doesn't accept 1D data by default"
   ]
  },
  {
   "cell_type": "code",
   "execution_count": 3,
   "metadata": {},
   "outputs": [
    {
     "name": "stderr",
     "output_type": "stream",
     "text": [
      "2023-05-21 18:25:43.437964: I tensorflow/compiler/jit/xla_cpu_device.cc:41] Not creating XLA devices, tf_xla_enable_xla_devices not set\n",
      "2023-05-21 18:25:43.438493: I tensorflow/stream_executor/platform/default/dso_loader.cc:49] Successfully opened dynamic library libcuda.so.1\n",
      "2023-05-21 18:25:43.442443: I tensorflow/stream_executor/cuda/cuda_gpu_executor.cc:941] successful NUMA node read from SysFS had negative value (-1), but there must be at least one NUMA node, so returning NUMA node zero\n",
      "2023-05-21 18:25:43.442561: I tensorflow/core/common_runtime/gpu/gpu_device.cc:1720] Found device 0 with properties: \n",
      "pciBusID: 0000:01:00.0 name: NVIDIA GeForce GTX 1650 computeCapability: 7.5\n",
      "coreClock: 1.635GHz coreCount: 14 deviceMemorySize: 3.81GiB deviceMemoryBandwidth: 178.84GiB/s\n",
      "2023-05-21 18:25:43.442581: I tensorflow/stream_executor/platform/default/dso_loader.cc:49] Successfully opened dynamic library libcudart.so.10.1\n",
      "2023-05-21 18:25:43.443743: I tensorflow/stream_executor/platform/default/dso_loader.cc:49] Successfully opened dynamic library libcublas.so.10\n",
      "2023-05-21 18:25:43.443787: I tensorflow/stream_executor/platform/default/dso_loader.cc:49] Successfully opened dynamic library libcublasLt.so.10\n",
      "2023-05-21 18:25:43.444870: I tensorflow/stream_executor/platform/default/dso_loader.cc:49] Successfully opened dynamic library libcufft.so.10\n",
      "2023-05-21 18:25:43.445095: I tensorflow/stream_executor/platform/default/dso_loader.cc:49] Successfully opened dynamic library libcurand.so.10\n",
      "2023-05-21 18:25:43.446182: I tensorflow/stream_executor/platform/default/dso_loader.cc:49] Successfully opened dynamic library libcusolver.so.10\n",
      "2023-05-21 18:25:43.446758: I tensorflow/stream_executor/platform/default/dso_loader.cc:49] Successfully opened dynamic library libcusparse.so.10\n",
      "2023-05-21 18:25:43.448878: I tensorflow/stream_executor/platform/default/dso_loader.cc:49] Successfully opened dynamic library libcudnn.so.7\n",
      "2023-05-21 18:25:43.448978: I tensorflow/stream_executor/cuda/cuda_gpu_executor.cc:941] successful NUMA node read from SysFS had negative value (-1), but there must be at least one NUMA node, s"
     ]
    },
    {
     "name": "stdout",
     "output_type": "stream",
     "text": [
      "Model: \"sequential\"\n",
      "_________________________________________________________________\n",
      "Layer (type)                 Output Shape              Param #   \n",
      "=================================================================\n",
      "dense (Dense)                (None, 16)                32        \n",
      "_________________________________________________________________\n",
      "dense_1 (Dense)              (None, 32)                544       \n",
      "_________________________________________________________________\n",
      "dense_2 (Dense)              (None, 2)                 66        \n",
      "=================================================================\n",
      "Total params: 642\n",
      "Trainable params: 642\n",
      "Non-trainable params: 0\n",
      "_________________________________________________________________\n"
     ]
    },
    {
     "name": "stderr",
     "output_type": "stream",
     "text": [
      "o returning NUMA node zero\n",
      "2023-05-21 18:25:43.449113: I tensorflow/stream_executor/cuda/cuda_gpu_executor.cc:941] successful NUMA node read from SysFS had negative value (-1), but there must be at least one NUMA node, so returning NUMA node zero\n",
      "2023-05-21 18:25:43.449176: I tensorflow/core/common_runtime/gpu/gpu_device.cc:1862] Adding visible gpu devices: 0\n",
      "2023-05-21 18:25:43.449636: I tensorflow/core/platform/cpu_feature_guard.cc:142] This TensorFlow binary is optimized with oneAPI Deep Neural Network Library (oneDNN) to use the following CPU instructions in performance-critical operations:  SSE4.1 SSE4.2 AVX AVX2 FMA\n",
      "To enable them in other operations, rebuild TensorFlow with the appropriate compiler flags.\n",
      "2023-05-21 18:25:43.449942: I tensorflow/compiler/jit/xla_gpu_device.cc:99] Not creating XLA devices, tf_xla_enable_xla_devices not set\n",
      "2023-05-21 18:25:43.450021: I tensorflow/stream_executor/cuda/cuda_gpu_executor.cc:941] successful NUMA node read from SysFS had negative value (-1), but there must be at least one NUMA node, so returning NUMA node zero\n",
      "2023-05-21 18:25:43.450094: I tensorflow/core/common_runtime/gpu/gpu_device.cc:1720] Found device 0 with properties: \n",
      "pciBusID: 0000:01:00.0 name: NVIDIA GeForce GTX 1650 computeCapability: 7.5\n",
      "coreClock: 1.635GHz coreCount: 14 deviceMemorySize: 3.81GiB deviceMemoryBandwidth: 178.84GiB/s\n",
      "2023-05-21 18:25:43.450108: I tensorflow/stream_executor/platform/default/dso_loader.cc:49] Successfully opened dynamic library libcudart.so.10.1\n",
      "2023-05-21 18:25:43.450121: I tensorflow/stream_executor/platform/default/dso_loader.cc:49] Successfully opened dynamic library libcublas.so.10\n",
      "2023-05-21 18:25:43.450131: I tensorflow/stream_executor/platform/default/dso_loader.cc:49] Successfully opened dynamic library libcublasLt.so.10\n",
      "2023-05-21 18:25:43.450140: I tensorflow/stream_executor/platform/default/dso_loader.cc:49] Successfully opened dynamic library libcufft.so.10\n",
      "2023-05-21 18:25:43.450149: I tensorflow/stream_executor/platform/default/dso_loader.cc:49] Successfully opened dynamic library libcurand.so.10\n",
      "2023-05-21 18:25:43.450158: I tensorflow/stream_executor/platform/default/dso_loader.cc:49] Successfully opened dynamic library libcusolver.so.10\n",
      "2023-05-21 18:25:43.450168: I tensorflow/stream_executor/platform/default/dso_loader.cc:49] Successfully opened dynamic library libcusparse.so.10\n",
      "2023-05-21 18:25:43.450177: I tensorflow/stream_executor/platform/default/dso_loader.cc:49] Successfully opened dynamic library libcudnn.so.7\n",
      "2023-05-21 18:25:43.450210: I tensorflow/stream_executor/cuda/cuda_gpu_executor.cc:941] successful NUMA node read from SysFS had negative value (-1), but there must be at least one NUMA node, so returning NUMA node zero\n",
      "2023-05-21 18:25:43.450299: I tensorflow/stream_executor/cuda/cuda_gpu_executor.cc:941] successful NUMA node read from SysFS had negative value (-1), but there must be at least one NUMA node, so returning NUMA node zero\n",
      "2023-05-21 18:25:43.450359: I tensorflow/core/common_runtime/gpu/gpu_device.cc:1862] Adding visible gpu devices: 0\n",
      "2023-05-21 18:25:43.450377: I tensorflow/stream_executor/platform/default/dso_loader.cc:49] Successfully opened dynamic library libcudart.so.10.1\n",
      "2023-05-21 18:25:43.818975: I tensorflow/core/common_runtime/gpu/gpu_device.cc:1261] Device interconnect StreamExecutor with strength 1 edge matrix:\n",
      "2023-05-21 18:25:43.818999: I tensorflow/core/common_runtime/gpu/gpu_device.cc:1267]      0 \n",
      "2023-05-21 18:25:43.819003: I tensorflow/core/common_runtime/gpu/gpu_device.cc:1280] 0:   N \n",
      "2023-05-21 18:25:43.819165: I tensorflow/stream_executor/cuda/cuda_gpu_executor.cc:941] successful NUMA node read from SysFS had negative value (-1), but there must be at least one NUMA node, so returning NUMA node zero\n",
      "2023-05-21 18:25:43.819304: I tensorflow/stream_executor/cuda/cuda_gpu_executor.cc:941] successful NUMA node read from SysFS had negative value (-1), but there must be at least one NUMA node, so returning NUMA node zero\n",
      "2023-05-21 18:25:43.819396: I tensorflow/stream_executor/cuda/cuda_gpu_executor.cc:941] successful NUMA node read from SysFS had negative value (-1), but there must be at least one NUMA node, so returning NUMA node zero\n",
      "2023-05-21 18:25:43.819471: I tensorflow/core/common_runtime/gpu/gpu_device.cc:1406] Created TensorFlow device (/job:localhost/replica:0/task:0/device:GPU:0 with 3358 MB memory) -> physical GPU (device: 0, name: NVIDIA GeForce GTX 1650, pci bus id: 0000:01:00.0, compute capability: 7.5)\n"
     ]
    }
   ],
   "source": [
    "#model is an instance of a Sequential object. A tf.keras.Sequential model is a linear stack of layers. It accepts a list, and each element in the list should be a layer.\n",
    "#A Dense layer is our standard fully-connected or densely-connected neural network layer\n",
    "#The input data defines the input layer shape\n",
    "#The model first layer defines the first hidden layer\n",
    "\n",
    "model = Sequential([\n",
    "    Dense(units=16, input_shape=(1,), activation='relu'),   #the input_shape data is one-dimensional in this case\n",
    "    Dense(units=32, activation='relu'),\n",
    "    Dense(units=2, activation='softmax')                    #the output layer will have 2 neurons because we have two possible outputs: either a patient experienced side effects, or the patient did not experience side effects.\n",
    "])\n",
    "\n",
    "\n",
    "model.summary()"
   ]
  },
  {
   "cell_type": "code",
   "execution_count": 4,
   "metadata": {},
   "outputs": [],
   "source": [
    "model.compile(optimizer=Adam(learning_rate=0.1), loss='sparse_categorical_crossentropy', metrics=['accuracy'])  #This function configures the model for training\n",
    "\n",
    "#model.compile tear apart\n",
    "##Adam optimization is a stochastic gradient descent (SGD) method\n",
    "##The next parameter we specify is loss. We'll be using sparse_categorical_crossentropy\n",
    "##The last parameter we specify is metrics. This parameter expects a list of metrics that we'd like to be evaluated by the model during training and testing. We'll set this to a list that contains the string ‘accuracy'."
   ]
  },
  {
   "cell_type": "code",
   "execution_count": 5,
   "metadata": {},
   "outputs": [
    {
     "name": "stderr",
     "output_type": "stream",
     "text": [
      "2023-05-21 18:27:27.327585: I tensorflow/compiler/mlir/mlir_graph_optimization_pass.cc:116] None of the MLIR optimization passes are enabled (registered 2)\n",
      "2023-05-21 18:27:27.327939: I tensorflow/core/platform/profile_utils/cpu_utils.cc:112] CPU Frequency: 4099895000 Hz\n",
      "2023-05-21 18:27:27.520791: I tensorflow/stream_executor/platform/default/dso_loader.cc:49] Successfully opened dynamic library libcublas.so.10\n"
     ]
    },
    {
     "name": "stdout",
     "output_type": "stream",
     "text": [
      "Epoch 1/30\n",
      "189/189 - 1s - loss: 0.3199 - accuracy: 0.8921 - val_loss: 0.3773 - val_accuracy: 0.9190\n",
      "Epoch 2/30\n",
      "189/189 - 0s - loss: 0.2529 - accuracy: 0.9222 - val_loss: 0.3538 - val_accuracy: 0.9095\n",
      "Epoch 3/30\n",
      "189/189 - 0s - loss: 0.2672 - accuracy: 0.9180 - val_loss: 0.4768 - val_accuracy: 0.8143\n",
      "Epoch 4/30\n",
      "189/189 - 0s - loss: 0.2440 - accuracy: 0.9233 - val_loss: 0.2824 - val_accuracy: 0.9333\n",
      "Epoch 5/30\n",
      "189/189 - 0s - loss: 0.2595 - accuracy: 0.9159 - val_loss: 0.3391 - val_accuracy: 0.9000\n",
      "Epoch 6/30\n",
      "189/189 - 0s - loss: 0.2685 - accuracy: 0.9185 - val_loss: 0.2872 - val_accuracy: 0.9286\n",
      "Epoch 7/30\n",
      "189/189 - 0s - loss: 0.2356 - accuracy: 0.9317 - val_loss: 0.2754 - val_accuracy: 0.9333\n",
      "Epoch 8/30\n",
      "189/189 - 0s - loss: 0.2492 - accuracy: 0.9254 - val_loss: 0.3242 - val_accuracy: 0.8762\n",
      "Epoch 9/30\n",
      "189/189 - 0s - loss: 0.2302 - accuracy: 0.9286 - val_loss: 0.4068 - val_accuracy: 0.8524\n",
      "Epoch 10/30\n",
      "189/189 - 0s - loss: 0.2363 - accuracy: 0.9259 - val_loss: 0.3630 - val_accuracy: 0.9000\n",
      "Epoch 11/30\n",
      "189/189 - 0s - loss: 0.2399 - accuracy: 0.9328 - val_loss: 0.2745 - val_accuracy: 0.9286\n",
      "Epoch 12/30\n",
      "189/189 - 0s - loss: 0.2282 - accuracy: 0.9354 - val_loss: 0.2947 - val_accuracy: 0.9000\n",
      "Epoch 13/30\n",
      "189/189 - 0s - loss: 0.2249 - accuracy: 0.9376 - val_loss: 0.2834 - val_accuracy: 0.9286\n",
      "Epoch 14/30\n",
      "189/189 - 0s - loss: 0.2220 - accuracy: 0.9349 - val_loss: 0.3672 - val_accuracy: 0.8762\n",
      "Epoch 15/30\n",
      "189/189 - 0s - loss: 0.2343 - accuracy: 0.9312 - val_loss: 0.2788 - val_accuracy: 0.9286\n",
      "Epoch 16/30\n",
      "189/189 - 0s - loss: 0.2286 - accuracy: 0.9365 - val_loss: 0.3335 - val_accuracy: 0.9000\n",
      "Epoch 17/30\n",
      "189/189 - 0s - loss: 0.2226 - accuracy: 0.9370 - val_loss: 0.2732 - val_accuracy: 0.9333\n",
      "Epoch 18/30\n",
      "189/189 - 0s - loss: 0.2203 - accuracy: 0.9381 - val_loss: 0.2958 - val_accuracy: 0.9333\n",
      "Epoch 19/30\n",
      "189/189 - 0s - loss: 0.2126 - accuracy: 0.9407 - val_loss: 0.2758 - val_accuracy: 0.9286\n",
      "Epoch 20/30\n",
      "189/189 - 0s - loss: 0.2169 - accuracy: 0.9381 - val_loss: 0.2986 - val_accuracy: 0.9286\n",
      "Epoch 21/30\n",
      "189/189 - 0s - loss: 0.2274 - accuracy: 0.9339 - val_loss: 0.2765 - val_accuracy: 0.9286\n",
      "Epoch 22/30\n",
      "189/189 - 0s - loss: 0.2114 - accuracy: 0.9429 - val_loss: 0.3048 - val_accuracy: 0.9000\n",
      "Epoch 23/30\n",
      "189/189 - 0s - loss: 0.2274 - accuracy: 0.9397 - val_loss: 0.2674 - val_accuracy: 0.9333\n",
      "Epoch 24/30\n",
      "189/189 - 0s - loss: 0.2136 - accuracy: 0.9402 - val_loss: 0.2743 - val_accuracy: 0.9095\n",
      "Epoch 25/30\n",
      "189/189 - 0s - loss: 0.2120 - accuracy: 0.9466 - val_loss: 0.2675 - val_accuracy: 0.9286\n",
      "Epoch 26/30\n",
      "189/189 - 0s - loss: 0.2259 - accuracy: 0.9370 - val_loss: 0.3167 - val_accuracy: 0.8762\n",
      "Epoch 27/30\n",
      "189/189 - 0s - loss: 0.2163 - accuracy: 0.9407 - val_loss: 0.3053 - val_accuracy: 0.9286\n",
      "Epoch 28/30\n",
      "189/189 - 0s - loss: 0.2081 - accuracy: 0.9455 - val_loss: 0.2856 - val_accuracy: 0.9333\n",
      "Epoch 29/30\n",
      "189/189 - 0s - loss: 0.2180 - accuracy: 0.9402 - val_loss: 0.2737 - val_accuracy: 0.9190\n",
      "Epoch 30/30\n",
      "189/189 - 0s - loss: 0.2152 - accuracy: 0.9418 - val_loss: 0.2677 - val_accuracy: 0.9333\n"
     ]
    },
    {
     "data": {
      "text/plain": [
       "<tensorflow.python.keras.callbacks.History at 0x7f23440ae5b0>"
      ]
     },
     "execution_count": 5,
     "metadata": {},
     "output_type": "execute_result"
    }
   ],
   "source": [
    "#Train using fit\n",
    "#model.fit(x=scaled_train_samples, y=train_labels, batch_size=10, epochs=30, verbose=2)\n",
    "\n",
    "#model.fit tear apart\n",
    "#The batch size is the number of samples that are passed to the network at once.\n",
    "#Lastly, we specify verbose=2. This just specifies how much output to the console we want to see during each epoch of training. The verbosity levels range from 0 to 2, so we're getting the most verbose output.\n",
    "\n",
    "# IF we use a validation set, using a 10% of the training data, the model will not train on it, but evaluate the loss and any model metrics on this data at the end of each epoch.\n",
    "model.fit(\n",
    "      x=scaled_train_samples\n",
    "    , y=train_labels\n",
    "    , validation_split=0.1\n",
    "    , batch_size=10\n",
    "    , epochs=30\n",
    "    , verbose=2\n",
    ")"
   ]
  },
  {
   "cell_type": "code",
   "execution_count": 6,
   "metadata": {},
   "outputs": [],
   "source": [
    "### Inference\n",
    "## Testing the Training of the Neural Network with a data set\n",
    "\n",
    "test_labels =  []\n",
    "test_samples = []\n",
    "\n",
    "for i in range(10):\n",
    "    # The 5% of younger individuals who did experience side effects\n",
    "    random_younger = randint(13,64)\n",
    "    test_samples.append(random_younger)\n",
    "    test_labels.append(1)\n",
    "\n",
    "    # The 5% of older individuals who did not experience side effects\n",
    "    random_older = randint(65,100)\n",
    "    test_samples.append(random_older)\n",
    "    test_labels.append(0)\n",
    "\n",
    "for i in range(200):\n",
    "    # The 95% of younger individuals who did not experience side effects\n",
    "    random_younger = randint(13,64)\n",
    "    test_samples.append(random_younger)\n",
    "    test_labels.append(0)\n",
    "\n",
    "    # The 95% of older individuals who did experience side effects\n",
    "    random_older = randint(65,100)\n",
    "    test_samples.append(random_older)\n",
    "    test_labels.append(1)\n",
    "\n",
    "test_labels = np.array(test_labels)\n",
    "test_samples = np.array(test_samples)\n",
    "test_labels, test_samples = shuffle(test_labels, test_samples)\n",
    "\n",
    "scaled_test_samples = scaler.fit_transform(test_samples.reshape(-1,1))"
   ]
  },
  {
   "cell_type": "code",
   "execution_count": 7,
   "metadata": {},
   "outputs": [],
   "source": [
    "#We quest the Neural Netowork with the test set\n",
    "\n",
    "predictions = model.predict(\n",
    "      x=scaled_test_samples\n",
    "    , batch_size=10\n",
    "    , verbose=0 # The output from the predictions won't be relevant for us, so we're setting verbose=0 for no output.\n",
    ")  \n",
    "\n",
    "rounded_predictions = np.argmax(predictions, axis=-1)   #most probable prediction."
   ]
  },
  {
   "cell_type": "code",
   "execution_count": 8,
   "metadata": {},
   "outputs": [
    {
     "name": "stdout",
     "output_type": "stream",
     "text": [
      "Confusion matrix, without normalization\n",
      "[[194  16]\n",
      " [ 10 200]]\n"
     ]
    },
    {
     "data": {
      "image/png": "[encoded data removed]",
      "text/plain": [
       "<Figure size 640x480 with 2 Axes>"
      ]
     },
     "metadata": {},
     "output_type": "display_data"
    }
   ],
   "source": [
    "## Confusion matrix: it will able us to read the predictions from the model easily\n",
    "\n",
    "cm=confusion_matrix(y_true=test_labels, y_pred=rounded_predictions)     #we define the labels for the confusion matrix\n",
    "cm_plot_labels=['no_side_effects', 'had side effects']\n",
    "pcm.plot_confusion_matrix(cm=cm, classes=cm_plot_labels, title='Confusion Matrix')  # plot the matrix with the function given"
   ]
  },
  {
   "cell_type": "code",
   "execution_count": 9,
   "metadata": {},
   "outputs": [],
   "source": [
    "# model.save() is for saving a model at its current state after it was trained so that we could make use of it later, we pass in the file path and name of the file we want to save the model to with an h5 extension\n",
    "\n",
    "model.save('models/medical_trial_model.h5')"
   ]
  },
  {
   "cell_type": "code",
   "execution_count": 11,
   "metadata": {},
   "outputs": [
    {
     "name": "stdout",
     "output_type": "stream",
     "text": [
      "{\"class_name\": \"Sequential\", \"config\": {\"name\": \"sequential\", \"layers\": [{\"class_name\": \"InputLayer\", \"config\": {\"batch_input_shape\": [null, 1], \"dtype\": \"float32\", \"sparse\": false, \"ragged\": false, \"name\": \"dense_input\"}}, {\"class_name\": \"Dense\", \"config\": {\"name\": \"dense\", \"trainable\": true, \"batch_input_shape\": [null, 1], \"dtype\": \"float32\", \"units\": 16, \"activation\": \"relu\", \"use_bias\": true, \"kernel_initializer\": {\"class_name\": \"GlorotUniform\", \"config\": {\"seed\": null}}, \"bias_initializer\": {\"class_name\": \"Zeros\", \"config\": {}}, \"kernel_regularizer\": null, \"bias_regularizer\": null, \"activity_regularizer\": null, \"kernel_constraint\": null, \"bias_constraint\": null}}, {\"class_name\": \"Dense\", \"config\": {\"name\": \"dense_1\", \"trainable\": true, \"dtype\": \"float32\", \"units\": 32, \"activation\": \"relu\", \"use_bias\": true, \"kernel_initializer\": {\"class_name\": \"GlorotUniform\", \"config\": {\"seed\": null}}, \"bias_initializer\": {\"class_name\": \"Zeros\", \"config\": {}}, \"kernel_regularizer\": null, \"bias_regularizer\": null, \"activity_regularizer\": null, \"kernel_constraint\": null, \"bias_constraint\": null}}, {\"class_name\": \"Dense\", \"config\": {\"name\": \"dense_2\", \"trainable\": true, \"dtype\": \"float32\", \"units\": 2, \"activation\": \"softmax\", \"use_bias\": true, \"kernel_initializer\": {\"class_name\": \"GlorotUniform\", \"config\": {\"seed\": null}}, \"bias_initializer\": {\"class_name\": \"Zeros\", \"config\": {}}, \"kernel_regularizer\": null, \"bias_regularizer\": null, \"activity_regularizer\": null, \"kernel_constraint\": null, \"bias_constraint\": null}}]}, \"keras_version\": \"2.4.0\", \"backend\": \"tensorflow\"}\n"
     ]
    }
   ],
   "source": [
    "json_string = model.to_json()   # this function will only save the architecture of the model. This will not save the model weights, configurations, optimizer, loss or anything else\n",
    "print(json_string)"
   ]
  }
 ],
 "metadata": {
  "kernelspec": {
   "display_name": "deeplearning",
   "language": "python",
   "name": "python3"
  },
  "language_info": {
   "codemirror_mode": {
    "name": "ipython",
    "version": 3
   },
   "file_extension": ".py",
   "mimetype": "text/x-python",
   "name": "python",
   "nbconvert_exporter": "python",
   "pygments_lexer": "ipython3",
   "version": "3.9.16"
  },
  "orig_nbformat": 4
 },
 "nbformat": 4,
 "nbformat_minor": 2
}
