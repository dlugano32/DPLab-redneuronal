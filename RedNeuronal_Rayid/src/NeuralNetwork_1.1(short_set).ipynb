{
 "cells": [
  {
   "cell_type": "code",
   "execution_count": 9,
   "id": "974dc522",
   "metadata": {},
   "outputs": [],
   "source": [
    "import numpy\n",
    "import matplotlib.pyplot\n",
    "import scipy.special\n",
    "%matplotlib inline "
   ]
  },
  {
   "cell_type": "code",
   "execution_count": 10,
   "id": "cd9db64e",
   "metadata": {},
   "outputs": [],
   "source": [
    "class neuralNetwork:\n",
    "\n",
    "    #initialise the neural network\n",
    "    def __init__(self, inputNodes, hiddenNodes, outputNodes, learningRate):\n",
    "        \n",
    "        self.iNodes=inputNodes\n",
    "        self.hNodes=hiddenNodes\n",
    "        self.oNodes=outputNodes\n",
    "        \n",
    "        #link weight matrices, wih and who\n",
    "        #weights inside the arrays are w_i_j, where link is from node i to node j in the next layer\n",
    "        #example\n",
    "            # w11 w21\n",
    "            # w12 w22\n",
    "            # ...\n",
    "        \n",
    "        self.wih=numpy.random.normal(0.0, pow(self.hNodes, -0.5), (self.hNodes, self.iNodes)) # The -0.5 is to keep the array between -1 and 1\n",
    "        self.woh=numpy.random.normal(0.0, pow(self.oNodes, -0.5), (self.oNodes, self.hNodes))\n",
    "\n",
    "        #learning rate\n",
    "        self.lr=learningRate\n",
    "        \n",
    "        #activation function is the sigmoid function\n",
    "        self.activation_function = lambda x: scipy.special.expit(x)\n",
    "                  \n",
    "        pass\n",
    "    \n",
    "    #train the neural network\n",
    "    def train(self, inputs_list, targets_list):\n",
    "        #convert inputs list to 2d array\n",
    "        inputs = numpy.array(inputs_list, ndmin=2).T\n",
    "        targets = numpy.array(targets_list, ndmin=2).T\n",
    "        \n",
    "        #calculate signals into hidden layer\n",
    "        hidden_inputs = numpy.dot(self.wih, inputs)\n",
    "        #calculate the signals emerging from the hidden layer\n",
    "        hidden_outputs = self.activation_function(hidden_inputs)\n",
    "        \n",
    "        #calculate signals into final output layer\n",
    "        final_inputs=numpy.dot(self.woh, hidden_outputs)\n",
    "        #calculate the signals emerging from final output layer\n",
    "        final_outputs=self.activation_function(final_inputs)\n",
    "        \n",
    "        # error is the (target - actual)\n",
    "        output_errors = targets - final_outputs\n",
    "        \n",
    "        #hidden layer error is the output_errors, split by weights, recombined at hidden nodes (backpropagation)\n",
    "        hidden_errors=numpy.dot(self.woh.T, output_errors)\n",
    "        \n",
    "        #update the weights for the links between the hidden and output layers\n",
    "        self.woh+= self.lr * numpy.dot((output_errors * final_outputs * (1.0 - final_outputs)), numpy.transpose(hidden_outputs))\n",
    "        #update the weights for the links between the input and hidden layers\n",
    "        self.wih+= self.lr * numpy.dot((hidden_errors * hidden_outputs * (1.0 - hidden_outputs)), numpy.transpose(inputs))\n",
    "        \n",
    "        pass\n",
    "    \n",
    "    #query the neural network\n",
    "    def query(self, inputs_list):\n",
    "        #convert inputs list to 2d array\n",
    "        inputs = numpy.array(inputs_list, ndmin=2).T\n",
    "        \n",
    "        #calculate signals into hidden layer\n",
    "        hidden_inputs = numpy.dot(self.wih, inputs)\n",
    "        #calculate the signalas emerging from hidden layer\n",
    "        hidden_outputs=self.activation_function(hidden_inputs)\n",
    "        #calculate signals into final output layer\n",
    "        final_inputs=numpy.dot(self.woh, hidden_outputs)\n",
    "        #calculate the sginals emerging from the final output layer\n",
    "        final_outputs=self.activation_function(final_inputs)\n",
    "        \n",
    "        return final_outputs"
   ]
  },
  {
   "cell_type": "code",
   "execution_count": 11,
   "id": "67f965fc",
   "metadata": {},
   "outputs": [],
   "source": [
    "# number of input, hidden and output nodes\n",
    "input_nodes = 784\n",
    "hidden_nodes = 100\n",
    "output_nodes = 10\n",
    "\n",
    "# learning rate is 0.3\n",
    "learning_rate = 0.3\n",
    "\n",
    "# instance an object of neural network\n",
    "n= neuralNetwork( input_nodes, hidden_nodes, output_nodes, learning_rate)\n"
   ]
  },
  {
   "cell_type": "code",
   "execution_count": 12,
   "id": "56bd6f15",
   "metadata": {},
   "outputs": [],
   "source": [
    "#load the mnist training data CSV file inot a list\n",
    "training_data_file=open(\"docs/mnist_train_100.csv\", 'r')\n",
    "training_data_list=training_data_file.readlines()\n",
    "training_data_file.close()"
   ]
  },
  {
   "cell_type": "code",
   "execution_count": 13,
   "id": "662421c4",
   "metadata": {},
   "outputs": [],
   "source": [
    "#train the neural network\n",
    "\n",
    "#epochs is the number of times the training data set is used for training\n",
    "epochs=5\n",
    "\n",
    "for e in range(epochs):\n",
    "        \n",
    "    for record in training_data_list:\n",
    "        #split the record by the ','\n",
    "        all_values = record.split(',')\n",
    "        #scale and shift the inputs\n",
    "        inputs=(numpy.asfarray(all_values[1:]) / 255.0 * 0.99) + 0.01\n",
    "        #create the target output values (all 0.01 except the desired label which is 0.99)\n",
    "        targets=numpy.zeros(output_nodes) + 0.01\n",
    "        #all_values[0] is the target label for this record\n",
    "        targets[int(all_values[0])] = 0.99\n",
    "        n.train(inputs, targets)\n",
    "    pass\n",
    "pass\n"
   ]
  },
  {
   "cell_type": "code",
   "execution_count": 14,
   "id": "d1056e5a",
   "metadata": {},
   "outputs": [],
   "source": [
    "#load the mnist test data CSV file into a list\n",
    "test_data_file=open(\"docs/mnist_test_10.csv\", 'r')\n",
    "test_data_list=test_data_file.readlines()\n",
    "test_data_file.close()"
   ]
  },
  {
   "cell_type": "code",
   "execution_count": 16,
   "id": "232b21b5",
   "metadata": {},
   "outputs": [
    {
     "name": "stdout",
     "output_type": "stream",
     "text": [
      "7 Correct label\n",
      "7 network's answer\n",
      "2 Correct label\n",
      "2 network's answer\n",
      "1 Correct label\n",
      "1 network's answer\n",
      "0 Correct label\n",
      "0 network's answer\n",
      "4 Correct label\n",
      "4 network's answer\n",
      "1 Correct label\n",
      "1 network's answer\n",
      "4 Correct label\n",
      "9 network's answer\n",
      "9 Correct label\n",
      "4 network's answer\n",
      "5 Correct label\n",
      "4 network's answer\n",
      "9 Correct label\n",
      "9 network's answer\n"
     ]
    }
   ],
   "source": [
    "#test the neural network\n",
    "\n",
    "#scoreboard for how well the network performs, initially empty\n",
    "scorecard = []\n",
    "\n",
    "#go through all the records in the test data set\n",
    "for record in test_data_list:\n",
    "    #split the record by the commas\n",
    "    all_values=record.split(',')\n",
    "    #correct answer is first value\n",
    "    correct_label = int(all_values[0])\n",
    "    print(correct_label, \"Correct label\")\n",
    "    #scale and shift the inputs\n",
    "    inputs=(numpy.asfarray(all_values[1:]) / 255.0 * 0.99) + 0.01\n",
    "    #query the network\n",
    "    outputs=n.query(inputs)\n",
    "    #the index of the highest value corresponds to the label\n",
    "    label=numpy.argmax(outputs)\n",
    "    print(label, \"network's answer\")\n",
    "    # append correct or incorrect to list\n",
    "    if (label == correct_label):\n",
    "        #network's answer matches correct answer, add 1 to scorecard\n",
    "        scorecard.append(1)\n",
    "    else:\n",
    "        #network's answer does not match correct answer, add 0 to scorecard\n",
    "        scorecard.append(0)\n",
    "        pass\n",
    "pass"
   ]
  },
  {
   "cell_type": "code",
   "execution_count": 20,
   "id": "75e77985",
   "metadata": {},
   "outputs": [
    {
     "name": "stdout",
     "output_type": "stream",
     "text": [
      "[1, 1, 1, 1, 1, 1, 0, 0, 0, 1]\n",
      "Performance =  70.0 %\n"
     ]
    }
   ],
   "source": [
    "print(scorecard)\n",
    "#calculate the performance score, the fraction of correc answers \n",
    "scorecard_array = numpy.asarray(scorecard)\n",
    "performance = (scorecard_array.sum() / scorecard_array.size ) * 100.0\n",
    "print(\"Performance = \", performance,\"%\")"
   ]
  }
 ],
 "metadata": {
  "kernelspec": {
   "display_name": "Python 3 (ipykernel)",
   "language": "python",
   "name": "python3"
  },
  "language_info": {
   "codemirror_mode": {
    "name": "ipython",
    "version": 3
   },
   "file_extension": ".py",
   "mimetype": "text/x-python",
   "name": "python",
   "nbconvert_exporter": "python",
   "pygments_lexer": "ipython3",
   "version": "3.10.6"
  }
 },
 "nbformat": 4,
 "nbformat_minor": 5
}
